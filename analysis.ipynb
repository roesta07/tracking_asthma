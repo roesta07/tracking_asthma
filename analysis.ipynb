{
  "nbformat": 4,
  "nbformat_minor": 0,
  "metadata": {
    "colab": {
      "name": "analysis.ipynb",
      "provenance": [],
      "authorship_tag": "ABX9TyOUEDjhPuhKcY/gBjwytzMV",
      "include_colab_link": true
    },
    "kernelspec": {
      "name": "python3",
      "display_name": "Python 3"
    }
  },
  "cells": [
    {
      "cell_type": "markdown",
      "metadata": {
        "id": "view-in-github",
        "colab_type": "text"
      },
      "source": [
        "<a href=\"https://colab.research.google.com/github/roesta07/tracking_asthma/blob/main/analysis.ipynb\" target=\"_parent\"><img src=\"https://colab.research.google.com/assets/colab-badge.svg\" alt=\"Open In Colab\"/></a>"
      ]
    },
    {
      "cell_type": "code",
      "metadata": {
        "colab": {
          "base_uri": "https://localhost:8080/"
        },
        "id": "TJfxPZqoCu7_",
        "outputId": "2e78d06e-a85b-4a8a-a921-b8a0449c3aa6"
      },
      "source": [
        "# Imports and utility functions\r\n",
        "# Install packages that are not installed in colab\r\n",
        "try:\r\n",
        "  import google.colab\r\n",
        "  IN_COLAB = True\r\n",
        "except:\r\n",
        "  IN_COLAB = False\r\n",
        "\r\n",
        "if IN_COLAB:\r\n",
        "    !pip install pymc3==3.8\r\n",
        "    !pip install --upgrade daft\r\n",
        "    !pip install --upgrade theano\r\n",
        "    !pip install causalgraphicalmodels\r\n",
        "    !pip install watermark\r\n",
        "    !pip install arviz --no-dependencies\r\n",
        "    !pip install netCDF4\r\n",
        "    !pip install xarray"
      ],
      "execution_count": 1,
      "outputs": [
        {
          "output_type": "stream",
          "text": [
            "Collecting pymc3==3.8\n",
            "\u001b[?25l  Downloading https://files.pythonhosted.org/packages/32/19/6c94cbadb287745ac38ff1197b9fadd66500b6b9c468e79099b110c6a2e9/pymc3-3.8-py3-none-any.whl (908kB)\n",
            "\u001b[K     |████████████████████████████████| 911kB 9.0MB/s \n",
            "\u001b[?25hRequirement already satisfied: patsy>=0.4.0 in /usr/local/lib/python3.6/dist-packages (from pymc3==3.8) (0.5.1)\n",
            "Collecting arviz>=0.4.1\n",
            "\u001b[?25l  Downloading https://files.pythonhosted.org/packages/a9/05/54183e9e57b0793eceb67361dbf4a7c4ed797ae36a04a3287791a564568c/arviz-0.10.0-py3-none-any.whl (1.5MB)\n",
            "\u001b[K     |████████████████████████████████| 1.5MB 22.4MB/s \n",
            "\u001b[?25hRequirement already satisfied: theano>=1.0.4 in /usr/local/lib/python3.6/dist-packages (from pymc3==3.8) (1.0.5)\n",
            "Requirement already satisfied: pandas>=0.18.0 in /usr/local/lib/python3.6/dist-packages (from pymc3==3.8) (1.1.5)\n",
            "Requirement already satisfied: numpy>=1.13.0 in /usr/local/lib/python3.6/dist-packages (from pymc3==3.8) (1.18.5)\n",
            "Requirement already satisfied: scipy>=0.18.1 in /usr/local/lib/python3.6/dist-packages (from pymc3==3.8) (1.4.1)\n",
            "Requirement already satisfied: tqdm>=4.8.4 in /usr/local/lib/python3.6/dist-packages (from pymc3==3.8) (4.41.1)\n",
            "Requirement already satisfied: h5py>=2.7.0 in /usr/local/lib/python3.6/dist-packages (from pymc3==3.8) (2.10.0)\n",
            "Requirement already satisfied: six in /usr/local/lib/python3.6/dist-packages (from patsy>=0.4.0->pymc3==3.8) (1.15.0)\n",
            "Collecting xarray>=0.16.1\n",
            "\u001b[?25l  Downloading https://files.pythonhosted.org/packages/10/6f/9aa15b1f9001593d51a0e417a8ad2127ef384d08129a0720b3599133c1ed/xarray-0.16.2-py3-none-any.whl (736kB)\n",
            "\u001b[K     |████████████████████████████████| 737kB 43.1MB/s \n",
            "\u001b[?25hRequirement already satisfied: packaging in /usr/local/lib/python3.6/dist-packages (from arviz>=0.4.1->pymc3==3.8) (20.7)\n",
            "Collecting netcdf4\n",
            "\u001b[?25l  Downloading https://files.pythonhosted.org/packages/cf/ef/fd6f437a12efb52d51e82d0e854f4938a67f36d2682aca2fcf58b5101d31/netCDF4-1.5.5-cp36-cp36m-manylinux1_x86_64.whl (4.3MB)\n",
            "\u001b[K     |████████████████████████████████| 4.3MB 49.3MB/s \n",
            "\u001b[?25hRequirement already satisfied: matplotlib>=3.0 in /usr/local/lib/python3.6/dist-packages (from arviz>=0.4.1->pymc3==3.8) (3.2.2)\n",
            "Requirement already satisfied: setuptools>=38.4 in /usr/local/lib/python3.6/dist-packages (from arviz>=0.4.1->pymc3==3.8) (50.3.2)\n",
            "Requirement already satisfied: python-dateutil>=2.7.3 in /usr/local/lib/python3.6/dist-packages (from pandas>=0.18.0->pymc3==3.8) (2.8.1)\n",
            "Requirement already satisfied: pytz>=2017.2 in /usr/local/lib/python3.6/dist-packages (from pandas>=0.18.0->pymc3==3.8) (2018.9)\n",
            "Requirement already satisfied: pyparsing>=2.0.2 in /usr/local/lib/python3.6/dist-packages (from packaging->arviz>=0.4.1->pymc3==3.8) (2.4.7)\n",
            "Collecting cftime\n",
            "\u001b[?25l  Downloading https://files.pythonhosted.org/packages/66/60/bad8525d2c046eb2964911bc412a85ba240b31c7b43f0c19377233992c6c/cftime-1.3.0-cp36-cp36m-manylinux1_x86_64.whl (295kB)\n",
            "\u001b[K     |████████████████████████████████| 296kB 48.2MB/s \n",
            "\u001b[?25hRequirement already satisfied: kiwisolver>=1.0.1 in /usr/local/lib/python3.6/dist-packages (from matplotlib>=3.0->arviz>=0.4.1->pymc3==3.8) (1.3.1)\n",
            "Requirement already satisfied: cycler>=0.10 in /usr/local/lib/python3.6/dist-packages (from matplotlib>=3.0->arviz>=0.4.1->pymc3==3.8) (0.10.0)\n",
            "Installing collected packages: xarray, cftime, netcdf4, arviz, pymc3\n",
            "  Found existing installation: xarray 0.15.1\n",
            "    Uninstalling xarray-0.15.1:\n",
            "      Successfully uninstalled xarray-0.15.1\n",
            "  Found existing installation: pymc3 3.7\n",
            "    Uninstalling pymc3-3.7:\n",
            "      Successfully uninstalled pymc3-3.7\n",
            "Successfully installed arviz-0.10.0 cftime-1.3.0 netcdf4-1.5.5 pymc3-3.8 xarray-0.16.2\n",
            "Collecting daft\n",
            "  Downloading https://files.pythonhosted.org/packages/f8/56/4a94a7b49308643e476474146e26e0079b0abb41c7990bd73a4307afd665/daft-0.1.0.tar.gz\n",
            "Requirement already satisfied, skipping upgrade: numpy in /usr/local/lib/python3.6/dist-packages (from daft) (1.18.5)\n",
            "Requirement already satisfied, skipping upgrade: matplotlib in /usr/local/lib/python3.6/dist-packages (from daft) (3.2.2)\n",
            "Requirement already satisfied, skipping upgrade: pyparsing!=2.0.4,!=2.1.2,!=2.1.6,>=2.0.1 in /usr/local/lib/python3.6/dist-packages (from matplotlib->daft) (2.4.7)\n",
            "Requirement already satisfied, skipping upgrade: kiwisolver>=1.0.1 in /usr/local/lib/python3.6/dist-packages (from matplotlib->daft) (1.3.1)\n",
            "Requirement already satisfied, skipping upgrade: cycler>=0.10 in /usr/local/lib/python3.6/dist-packages (from matplotlib->daft) (0.10.0)\n",
            "Requirement already satisfied, skipping upgrade: python-dateutil>=2.1 in /usr/local/lib/python3.6/dist-packages (from matplotlib->daft) (2.8.1)\n",
            "Requirement already satisfied, skipping upgrade: six in /usr/local/lib/python3.6/dist-packages (from cycler>=0.10->matplotlib->daft) (1.15.0)\n",
            "Building wheels for collected packages: daft\n",
            "  Building wheel for daft (setup.py) ... \u001b[?25l\u001b[?25hdone\n",
            "  Created wheel for daft: filename=daft-0.1.0-cp36-none-any.whl size=11375 sha256=00c40eb32d2c870f8b00c8b93d2563382833f1bf77a207350394bf21c754a176\n",
            "  Stored in directory: /root/.cache/pip/wheels/37/e9/8a/4186b68a6a3a042e0947b445ec6184e61b583bfad59af6fe49\n",
            "Successfully built daft\n",
            "Installing collected packages: daft\n",
            "  Found existing installation: daft 0.0.4\n",
            "    Uninstalling daft-0.0.4:\n",
            "      Successfully uninstalled daft-0.0.4\n",
            "Successfully installed daft-0.1.0\n",
            "Requirement already up-to-date: theano in /usr/local/lib/python3.6/dist-packages (1.0.5)\n",
            "Requirement already satisfied, skipping upgrade: numpy>=1.9.1 in /usr/local/lib/python3.6/dist-packages (from theano) (1.18.5)\n",
            "Requirement already satisfied, skipping upgrade: six>=1.9.0 in /usr/local/lib/python3.6/dist-packages (from theano) (1.15.0)\n",
            "Requirement already satisfied, skipping upgrade: scipy>=0.14 in /usr/local/lib/python3.6/dist-packages (from theano) (1.4.1)\n",
            "Collecting causalgraphicalmodels\n",
            "  Downloading https://files.pythonhosted.org/packages/c8/ee/3b2d184576f3cb4873cebfc696e8e5c1e53eaef691f38aea76c206f9f916/causalgraphicalmodels-0.0.4-py3-none-any.whl\n",
            "Requirement already satisfied: pandas in /usr/local/lib/python3.6/dist-packages (from causalgraphicalmodels) (1.1.5)\n",
            "Requirement already satisfied: networkx in /usr/local/lib/python3.6/dist-packages (from causalgraphicalmodels) (2.5)\n",
            "Requirement already satisfied: numpy in /usr/local/lib/python3.6/dist-packages (from causalgraphicalmodels) (1.18.5)\n",
            "Requirement already satisfied: graphviz in /usr/local/lib/python3.6/dist-packages (from causalgraphicalmodels) (0.10.1)\n",
            "Requirement already satisfied: pytz>=2017.2 in /usr/local/lib/python3.6/dist-packages (from pandas->causalgraphicalmodels) (2018.9)\n",
            "Requirement already satisfied: python-dateutil>=2.7.3 in /usr/local/lib/python3.6/dist-packages (from pandas->causalgraphicalmodels) (2.8.1)\n",
            "Requirement already satisfied: decorator>=4.3.0 in /usr/local/lib/python3.6/dist-packages (from networkx->causalgraphicalmodels) (4.4.2)\n",
            "Requirement already satisfied: six>=1.5 in /usr/local/lib/python3.6/dist-packages (from python-dateutil>=2.7.3->pandas->causalgraphicalmodels) (1.15.0)\n",
            "Installing collected packages: causalgraphicalmodels\n",
            "Successfully installed causalgraphicalmodels-0.0.4\n",
            "Collecting watermark\n",
            "  Downloading https://files.pythonhosted.org/packages/60/fe/3ed83b6122e70dce6fe269dfd763103c333f168bf91037add73ea4fe81c2/watermark-2.0.2-py2.py3-none-any.whl\n",
            "Requirement already satisfied: ipython in /usr/local/lib/python3.6/dist-packages (from watermark) (5.5.0)\n",
            "Requirement already satisfied: pexpect; sys_platform != \"win32\" in /usr/local/lib/python3.6/dist-packages (from ipython->watermark) (4.8.0)\n",
            "Requirement already satisfied: pygments in /usr/local/lib/python3.6/dist-packages (from ipython->watermark) (2.6.1)\n",
            "Requirement already satisfied: setuptools>=18.5 in /usr/local/lib/python3.6/dist-packages (from ipython->watermark) (50.3.2)\n",
            "Requirement already satisfied: pickleshare in /usr/local/lib/python3.6/dist-packages (from ipython->watermark) (0.7.5)\n",
            "Requirement already satisfied: decorator in /usr/local/lib/python3.6/dist-packages (from ipython->watermark) (4.4.2)\n",
            "Requirement already satisfied: prompt-toolkit<2.0.0,>=1.0.4 in /usr/local/lib/python3.6/dist-packages (from ipython->watermark) (1.0.18)\n",
            "Requirement already satisfied: traitlets>=4.2 in /usr/local/lib/python3.6/dist-packages (from ipython->watermark) (4.3.3)\n",
            "Requirement already satisfied: simplegeneric>0.8 in /usr/local/lib/python3.6/dist-packages (from ipython->watermark) (0.8.1)\n",
            "Requirement already satisfied: ptyprocess>=0.5 in /usr/local/lib/python3.6/dist-packages (from pexpect; sys_platform != \"win32\"->ipython->watermark) (0.6.0)\n",
            "Requirement already satisfied: six>=1.9.0 in /usr/local/lib/python3.6/dist-packages (from prompt-toolkit<2.0.0,>=1.0.4->ipython->watermark) (1.15.0)\n",
            "Requirement already satisfied: wcwidth in /usr/local/lib/python3.6/dist-packages (from prompt-toolkit<2.0.0,>=1.0.4->ipython->watermark) (0.2.5)\n",
            "Requirement already satisfied: ipython-genutils in /usr/local/lib/python3.6/dist-packages (from traitlets>=4.2->ipython->watermark) (0.2.0)\n",
            "Installing collected packages: watermark\n",
            "Successfully installed watermark-2.0.2\n",
            "Requirement already satisfied: arviz in /usr/local/lib/python3.6/dist-packages (0.10.0)\n",
            "Requirement already satisfied: netCDF4 in /usr/local/lib/python3.6/dist-packages (1.5.5)\n",
            "Requirement already satisfied: numpy>=1.9 in /usr/local/lib/python3.6/dist-packages (from netCDF4) (1.18.5)\n",
            "Requirement already satisfied: cftime in /usr/local/lib/python3.6/dist-packages (from netCDF4) (1.3.0)\n",
            "Requirement already satisfied: xarray in /usr/local/lib/python3.6/dist-packages (0.16.2)\n",
            "Requirement already satisfied: numpy>=1.15 in /usr/local/lib/python3.6/dist-packages (from xarray) (1.18.5)\n",
            "Requirement already satisfied: pandas>=0.25 in /usr/local/lib/python3.6/dist-packages (from xarray) (1.1.5)\n",
            "Requirement already satisfied: setuptools>=38.4 in /usr/local/lib/python3.6/dist-packages (from xarray) (50.3.2)\n",
            "Requirement already satisfied: python-dateutil>=2.7.3 in /usr/local/lib/python3.6/dist-packages (from pandas>=0.25->xarray) (2.8.1)\n",
            "Requirement already satisfied: pytz>=2017.2 in /usr/local/lib/python3.6/dist-packages (from pandas>=0.25->xarray) (2018.9)\n",
            "Requirement already satisfied: six>=1.5 in /usr/local/lib/python3.6/dist-packages (from python-dateutil>=2.7.3->pandas>=0.25->xarray) (1.15.0)\n"
          ],
          "name": "stdout"
        }
      ]
    },
    {
      "cell_type": "code",
      "metadata": {
        "id": "DMu56uB3GjoH"
      },
      "source": [
        "import arviz as az\r\n",
        "import matplotlib.pyplot as plt\r\n",
        "import seaborn as sns\r\n",
        "import numpy as np\r\n",
        "import pandas as pd\r\n",
        "import pymc3 as pm\r\n",
        "import scipy.stats as stats\r\n",
        "from scipy.optimize import curve_fit\r\n",
        "import daft\r\n",
        "from theano import theano\r\n",
        "\r\n",
        "from scipy.interpolate import griddata\r\n",
        "from causalgraphicalmodels import CausalGraphicalModel\r\n",
        "\r\n",
        "%config InlineBackend.figure_format = 'retina'\r\n",
        "az.style.use('arviz-darkgrid')\r\n",
        "# %load_ext watermark\r\n",
        "az.rcParams[\"stats.hdi_prob\"] = 0.89  # sets default credible interval"
      ],
      "execution_count": 2,
      "outputs": []
    },
    {
      "cell_type": "code",
      "metadata": {
        "id": "uI4GUwn3GtTV"
      },
      "source": [
        "N=200\r\n",
        "carbs=np.random.normal(52,0.5,size=N)\r\n",
        "wind=np.random.normal(10,5,size=N)\r\n",
        "outdoor_exp=stats.lognorm(0.25).rvs(N)\r\n",
        "U=np.random.normal(size=N)\r\n",
        "sneezing=\r\n"
      ],
      "execution_count": 8,
      "outputs": []
    },
    {
      "cell_type": "code",
      "metadata": {
        "colab": {
          "base_uri": "https://localhost:8080/"
        },
        "id": "W8wmSEQeQIOm",
        "outputId": "62662b49-cf1c-479a-fee0-5a8d7e9b557d"
      },
      "source": [
        "outdoor_exp"
      ],
      "execution_count": 7,
      "outputs": [
        {
          "output_type": "execute_result",
          "data": {
            "text/plain": [
              "array([0.88997981, 1.13995354, 1.31796887, 0.81961108, 1.56579785,\n",
              "       0.65739336, 0.74544841, 1.00923831, 0.92129562, 1.08772251,\n",
              "       0.68169806, 1.13194977, 1.23747643, 1.35414756, 1.15213427,\n",
              "       1.01455272, 0.76483982, 1.1651158 , 1.37651482, 0.89738719,\n",
              "       1.37954664, 1.14798293, 0.86750062, 1.21484688, 1.43531398,\n",
              "       1.11606174, 1.03446125, 0.8482113 , 1.05970331, 1.39647304,\n",
              "       1.18082168, 0.73363529, 0.97676972, 0.81487816, 1.08282649,\n",
              "       0.80081614, 0.63107218, 0.86929874, 0.69789378, 1.1374194 ,\n",
              "       2.10040709, 1.48432022, 0.62936467, 0.90282395, 1.35509632,\n",
              "       0.64840863, 0.81256807, 1.07950597, 0.79925931, 1.41334703,\n",
              "       0.89325529, 0.84934652, 1.16987365, 1.106703  , 1.20990989,\n",
              "       1.29601004, 1.15828695, 1.19211424, 1.60016488, 0.95892536,\n",
              "       1.08814724, 0.80402736, 1.1746851 , 0.99292998, 1.32333875,\n",
              "       1.58436535, 0.83742509, 1.45426587, 1.07253359, 0.89033431,\n",
              "       0.99375124, 1.26237634, 1.86944466, 0.84380375, 1.24904317,\n",
              "       1.22910235, 0.64274308, 0.74441741, 0.86274188, 1.2823132 ,\n",
              "       1.29689912, 1.17031652, 0.96870783, 1.22163799, 0.61744009,\n",
              "       0.69521126, 0.87686418, 1.07173786, 1.10141599, 0.87263569,\n",
              "       0.76725796, 1.09174588, 0.7327831 , 1.2304745 , 0.59249269,\n",
              "       0.89981777, 0.87412422, 1.14047757, 0.81531047, 1.40239339,\n",
              "       1.20948256, 1.8365319 , 0.61224242, 1.28708106, 0.65963685,\n",
              "       1.04236667, 1.5406704 , 0.68930833, 0.6177346 , 0.70908719,\n",
              "       0.90561231, 1.05620217, 1.18828855, 1.16672406, 0.93149687,\n",
              "       1.03013412, 0.91575572, 1.15145693, 1.43818945, 0.72023983,\n",
              "       1.30417658, 0.81526895, 1.24739472, 0.6230231 , 0.91559665,\n",
              "       0.92397542, 1.44910371, 1.1963994 , 0.98691088, 1.17048679,\n",
              "       0.90699976, 0.72624644, 0.97337892, 0.9382423 , 0.89224222,\n",
              "       1.1203845 , 0.75889844, 1.09312447, 1.18562287, 1.65677387,\n",
              "       0.94418898, 0.91525203, 1.32665354, 1.32462551, 1.15274107,\n",
              "       0.81909939, 0.77468946, 1.02020324, 0.7677522 , 0.66703684,\n",
              "       1.36909412, 0.88542769, 0.69722139, 0.8812412 , 1.22672838,\n",
              "       1.18480941, 1.29548936, 1.25517621, 0.7332405 , 2.04201975,\n",
              "       1.22080675, 1.14757289, 1.08322656, 1.05765658, 0.6763605 ,\n",
              "       1.21617561, 0.75972413, 0.97670655, 1.1553027 , 0.78492294,\n",
              "       0.99909428, 0.59316548, 0.92185827, 1.22492372, 1.05674332,\n",
              "       0.62039247, 1.29792512, 0.76553295, 0.82605789, 0.93899046,\n",
              "       0.89212324, 1.22271946, 0.98150537, 1.55421342, 1.00380016,\n",
              "       0.98865131, 1.67777341, 0.71907723, 0.67869967, 1.44167034,\n",
              "       1.34216004, 0.63106078, 0.81848529, 1.31584594, 0.95911381,\n",
              "       0.99980272, 1.08667734, 1.10705852, 0.94270383, 0.80937833])"
            ]
          },
          "metadata": {
            "tags": []
          },
          "execution_count": 7
        }
      ]
    },
    {
      "cell_type": "code",
      "metadata": {
        "id": "7UKq-IydQJqT"
      },
      "source": [
        ""
      ],
      "execution_count": null,
      "outputs": []
    }
  ]
}